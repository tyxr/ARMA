{
 "cells": [
  {
   "cell_type": "code",
   "execution_count": 204,
   "metadata": {
    "collapsed": true
   },
   "outputs": [],
   "source": [
    "##load data\n",
    "import prepare\n",
    "import importlib\n",
    "path = 'data/business.xls'\n",
    "business = prepare.loadDataSet(path)"
   ]
  },
  {
   "cell_type": "code",
   "execution_count": 202,
   "metadata": {
    "collapsed": false
   },
   "outputs": [],
   "source": [
    "test = pd.read_excel(path)"
   ]
  },
  {
   "cell_type": "code",
   "execution_count": 203,
   "metadata": {
    "collapsed": false,
    "scrolled": true
   },
   "outputs": [
    {
     "data": {
      "text/html": [
       "<div>\n",
       "<table border=\"1\" class=\"dataframe\">\n",
       "  <thead>\n",
       "    <tr style=\"text-align: right;\">\n",
       "      <th></th>\n",
       "      <th>用户编号</th>\n",
       "      <th>车辆编号</th>\n",
       "      <th>开始时间</th>\n",
       "      <th>结束时间</th>\n",
       "      <th>花费金额</th>\n",
       "      <th>实际支付金额</th>\n",
       "      <th>优惠金额</th>\n",
       "      <th>开始纬度</th>\n",
       "      <th>开始经度</th>\n",
       "      <th>结束纬度</th>\n",
       "      <th>结束经度</th>\n",
       "    </tr>\n",
       "  </thead>\n",
       "  <tbody>\n",
       "    <tr>\n",
       "      <th>0</th>\n",
       "      <td>10043</td>\n",
       "      <td>90</td>\n",
       "      <td>9/28/2015 13:03:20</td>\n",
       "      <td>9/28/2015 13:36:04</td>\n",
       "      <td>80</td>\n",
       "      <td>0</td>\n",
       "      <td>0</td>\n",
       "      <td>31.825016</td>\n",
       "      <td>119.998132</td>\n",
       "      <td>31.825208</td>\n",
       "      <td>119.998005</td>\n",
       "    </tr>\n",
       "    <tr>\n",
       "      <th>1</th>\n",
       "      <td>10041</td>\n",
       "      <td>89</td>\n",
       "      <td>9/28/2015 12:48:27</td>\n",
       "      <td>9/28/2015 13:59:40</td>\n",
       "      <td>160</td>\n",
       "      <td>0</td>\n",
       "      <td>0</td>\n",
       "      <td>31.825028</td>\n",
       "      <td>119.998074</td>\n",
       "      <td>31.825097</td>\n",
       "      <td>119.998017</td>\n",
       "    </tr>\n",
       "    <tr>\n",
       "      <th>2</th>\n",
       "      <td>10046</td>\n",
       "      <td>79</td>\n",
       "      <td>9/28/2015 13:38:11</td>\n",
       "      <td>9/28/2015 14:48:32</td>\n",
       "      <td>160</td>\n",
       "      <td>0</td>\n",
       "      <td>0</td>\n",
       "      <td>31.824956</td>\n",
       "      <td>119.997859</td>\n",
       "      <td>31.825067</td>\n",
       "      <td>119.997897</td>\n",
       "    </tr>\n",
       "    <tr>\n",
       "      <th>3</th>\n",
       "      <td>10059</td>\n",
       "      <td>86</td>\n",
       "      <td>9/28/2015 14:47:54</td>\n",
       "      <td>9/28/2015 15:13:21</td>\n",
       "      <td>60</td>\n",
       "      <td>0</td>\n",
       "      <td>0</td>\n",
       "      <td>31.825093</td>\n",
       "      <td>119.998124</td>\n",
       "      <td>31.825201</td>\n",
       "      <td>119.998015</td>\n",
       "    </tr>\n",
       "    <tr>\n",
       "      <th>4</th>\n",
       "      <td>726</td>\n",
       "      <td>86</td>\n",
       "      <td>9/29/2015 09:19:11</td>\n",
       "      <td>9/29/2015 09:19:17</td>\n",
       "      <td>1</td>\n",
       "      <td>0</td>\n",
       "      <td>0</td>\n",
       "      <td>31.825090</td>\n",
       "      <td>119.997652</td>\n",
       "      <td>0.000000</td>\n",
       "      <td>0.000000</td>\n",
       "    </tr>\n",
       "  </tbody>\n",
       "</table>\n",
       "</div>"
      ],
      "text/plain": [
       "    用户编号  车辆编号                开始时间                结束时间  花费金额  实际支付金额  优惠金额  \\\n",
       "0  10043    90  9/28/2015 13:03:20  9/28/2015 13:36:04    80       0     0   \n",
       "1  10041    89  9/28/2015 12:48:27  9/28/2015 13:59:40   160       0     0   \n",
       "2  10046    79  9/28/2015 13:38:11  9/28/2015 14:48:32   160       0     0   \n",
       "3  10059    86  9/28/2015 14:47:54  9/28/2015 15:13:21    60       0     0   \n",
       "4    726    86  9/29/2015 09:19:11  9/29/2015 09:19:17     1       0     0   \n",
       "\n",
       "        开始纬度        开始经度       结束纬度        结束经度  \n",
       "0  31.825016  119.998132  31.825208  119.998005  \n",
       "1  31.825028  119.998074  31.825097  119.998017  \n",
       "2  31.824956  119.997859  31.825067  119.997897  \n",
       "3  31.825093  119.998124  31.825201  119.998015  \n",
       "4  31.825090  119.997652   0.000000    0.000000  "
      ]
     },
     "execution_count": 203,
     "metadata": {},
     "output_type": "execute_result"
    }
   ],
   "source": [
    "test.head()"
   ]
  },
  {
   "cell_type": "code",
   "execution_count": 276,
   "metadata": {
    "collapsed": false,
    "scrolled": true
   },
   "outputs": [
    {
     "data": {
      "text/html": [
       "<div>\n",
       "<table border=\"1\" class=\"dataframe\">\n",
       "  <thead>\n",
       "    <tr style=\"text-align: right;\">\n",
       "      <th></th>\n",
       "      <th>开始时间</th>\n",
       "      <th>rentNumber</th>\n",
       "      <th>week</th>\n",
       "    </tr>\n",
       "  </thead>\n",
       "  <tbody>\n",
       "    <tr>\n",
       "      <th>711</th>\n",
       "      <td>2017-10</td>\n",
       "      <td>4</td>\n",
       "      <td>星期二</td>\n",
       "    </tr>\n",
       "    <tr>\n",
       "      <th>712</th>\n",
       "      <td>2017-10</td>\n",
       "      <td>11</td>\n",
       "      <td>星期三</td>\n",
       "    </tr>\n",
       "    <tr>\n",
       "      <th>713</th>\n",
       "      <td>2017-10</td>\n",
       "      <td>1</td>\n",
       "      <td>星期四</td>\n",
       "    </tr>\n",
       "    <tr>\n",
       "      <th>714</th>\n",
       "      <td>2017-10</td>\n",
       "      <td>9</td>\n",
       "      <td>星期五</td>\n",
       "    </tr>\n",
       "    <tr>\n",
       "      <th>715</th>\n",
       "      <td>2017-10</td>\n",
       "      <td>21</td>\n",
       "      <td>星期六</td>\n",
       "    </tr>\n",
       "    <tr>\n",
       "      <th>716</th>\n",
       "      <td>2017-10</td>\n",
       "      <td>17</td>\n",
       "      <td>星期天</td>\n",
       "    </tr>\n",
       "    <tr>\n",
       "      <th>717</th>\n",
       "      <td>2017-10</td>\n",
       "      <td>1</td>\n",
       "      <td>星期一</td>\n",
       "    </tr>\n",
       "  </tbody>\n",
       "</table>\n",
       "</div>"
      ],
      "text/plain": [
       "        开始时间  rentNumber week\n",
       "711  2017-10           4  星期二\n",
       "712  2017-10          11  星期三\n",
       "713  2017-10           1  星期四\n",
       "714  2017-10           9  星期五\n",
       "715  2017-10          21  星期六\n",
       "716  2017-10          17  星期天\n",
       "717  2017-10           1  星期一"
      ]
     },
     "execution_count": 276,
     "metadata": {},
     "output_type": "execute_result"
    }
   ],
   "source": [
    "business.tail(7)"
   ]
  },
  {
   "cell_type": "code",
   "execution_count": 207,
   "metadata": {
    "collapsed": false
   },
   "outputs": [],
   "source": [
    "##get daylist\n",
    "importlib.reload(prepare)\n",
    "datelist = prepare.get_datelist('2015-09-28','2017-10-16')"
   ]
  },
  {
   "cell_type": "code",
   "execution_count": 208,
   "metadata": {
    "collapsed": false
   },
   "outputs": [
    {
     "data": {
      "text/plain": [
       "32"
      ]
     },
     "execution_count": 208,
     "metadata": {},
     "output_type": "execute_result"
    }
   ],
   "source": [
    "len(datelist)-len(business)"
   ]
  },
  {
   "cell_type": "code",
   "execution_count": 209,
   "metadata": {
    "collapsed": true
   },
   "outputs": [
    {
     "name": "stdout",
     "output_type": "stream",
     "text": [
      "           开始时间  rentNumber week\n",
      "85   2015-12-22         0.0    0\n",
      "117  2016-01-23         0.0    0\n",
      "118  2016-01-24         0.0    0\n",
      "126  2016-02-01         0.0    0\n",
      "132  2016-02-07         0.0    0\n",
      "147  2016-02-22         0.0    0\n",
      "156  2016-03-02         0.0    0\n",
      "191  2016-04-06         0.0    0\n",
      "268  2016-06-22         0.0    0\n",
      "389  2016-10-21         0.0    0\n",
      "394  2016-10-26         0.0    0\n",
      "395  2016-10-27         0.0    0\n",
      "408  2016-11-09         0.0    0\n",
      "409  2016-11-10         0.0    0\n",
      "414  2016-11-15         0.0    0\n",
      "416  2016-11-17         0.0    0\n",
      "420  2016-11-21         0.0    0\n",
      "421  2016-11-22         0.0    0\n",
      "422  2016-11-23         0.0    0\n",
      "423  2016-11-24         0.0    0\n",
      "436  2016-12-07         0.0    0\n",
      "450  2016-12-21         0.0    0\n",
      "451  2016-12-22         0.0    0\n",
      "455  2016-12-26         0.0    0\n",
      "465  2017-01-05         0.0    0\n",
      "472  2017-01-12         0.0    0\n",
      "511  2017-02-20         0.0    0\n",
      "513  2017-02-22         0.0    0\n",
      "541  2017-03-22         0.0    0\n",
      "603  2017-05-23         0.0    0\n",
      "621  2017-06-10         0.0    0\n",
      "728  2017-09-25         0.0    0\n"
     ]
    }
   ],
   "source": [
    "import pandas as pd\n",
    "new_business = pd.merge(datelist,business,how='outer')\n",
    "new_business.fillna(0,inplace = 'true')\n",
    "print(new_business[new_business['rentNumber']==0])"
   ]
  },
  {
   "cell_type": "code",
   "execution_count": 210,
   "metadata": {
    "collapsed": true
   },
   "outputs": [
    {
     "data": {
      "text/html": [
       "<div>\n",
       "<table border=\"1\" class=\"dataframe\">\n",
       "  <thead>\n",
       "    <tr style=\"text-align: right;\">\n",
       "      <th></th>\n",
       "      <th>开始时间</th>\n",
       "      <th>rentNumber</th>\n",
       "      <th>week</th>\n",
       "    </tr>\n",
       "  </thead>\n",
       "  <tbody>\n",
       "    <tr>\n",
       "      <th>85</th>\n",
       "      <td>2015-12-22</td>\n",
       "      <td>0.0</td>\n",
       "      <td>0</td>\n",
       "    </tr>\n",
       "    <tr>\n",
       "      <th>117</th>\n",
       "      <td>2016-01-23</td>\n",
       "      <td>0.0</td>\n",
       "      <td>0</td>\n",
       "    </tr>\n",
       "    <tr>\n",
       "      <th>118</th>\n",
       "      <td>2016-01-24</td>\n",
       "      <td>0.0</td>\n",
       "      <td>0</td>\n",
       "    </tr>\n",
       "    <tr>\n",
       "      <th>126</th>\n",
       "      <td>2016-02-01</td>\n",
       "      <td>0.0</td>\n",
       "      <td>0</td>\n",
       "    </tr>\n",
       "    <tr>\n",
       "      <th>132</th>\n",
       "      <td>2016-02-07</td>\n",
       "      <td>0.0</td>\n",
       "      <td>0</td>\n",
       "    </tr>\n",
       "    <tr>\n",
       "      <th>147</th>\n",
       "      <td>2016-02-22</td>\n",
       "      <td>0.0</td>\n",
       "      <td>0</td>\n",
       "    </tr>\n",
       "    <tr>\n",
       "      <th>156</th>\n",
       "      <td>2016-03-02</td>\n",
       "      <td>0.0</td>\n",
       "      <td>0</td>\n",
       "    </tr>\n",
       "    <tr>\n",
       "      <th>191</th>\n",
       "      <td>2016-04-06</td>\n",
       "      <td>0.0</td>\n",
       "      <td>0</td>\n",
       "    </tr>\n",
       "    <tr>\n",
       "      <th>268</th>\n",
       "      <td>2016-06-22</td>\n",
       "      <td>0.0</td>\n",
       "      <td>0</td>\n",
       "    </tr>\n",
       "    <tr>\n",
       "      <th>389</th>\n",
       "      <td>2016-10-21</td>\n",
       "      <td>0.0</td>\n",
       "      <td>0</td>\n",
       "    </tr>\n",
       "    <tr>\n",
       "      <th>394</th>\n",
       "      <td>2016-10-26</td>\n",
       "      <td>0.0</td>\n",
       "      <td>0</td>\n",
       "    </tr>\n",
       "    <tr>\n",
       "      <th>395</th>\n",
       "      <td>2016-10-27</td>\n",
       "      <td>0.0</td>\n",
       "      <td>0</td>\n",
       "    </tr>\n",
       "    <tr>\n",
       "      <th>408</th>\n",
       "      <td>2016-11-09</td>\n",
       "      <td>0.0</td>\n",
       "      <td>0</td>\n",
       "    </tr>\n",
       "    <tr>\n",
       "      <th>409</th>\n",
       "      <td>2016-11-10</td>\n",
       "      <td>0.0</td>\n",
       "      <td>0</td>\n",
       "    </tr>\n",
       "    <tr>\n",
       "      <th>414</th>\n",
       "      <td>2016-11-15</td>\n",
       "      <td>0.0</td>\n",
       "      <td>0</td>\n",
       "    </tr>\n",
       "    <tr>\n",
       "      <th>416</th>\n",
       "      <td>2016-11-17</td>\n",
       "      <td>0.0</td>\n",
       "      <td>0</td>\n",
       "    </tr>\n",
       "    <tr>\n",
       "      <th>420</th>\n",
       "      <td>2016-11-21</td>\n",
       "      <td>0.0</td>\n",
       "      <td>0</td>\n",
       "    </tr>\n",
       "    <tr>\n",
       "      <th>421</th>\n",
       "      <td>2016-11-22</td>\n",
       "      <td>0.0</td>\n",
       "      <td>0</td>\n",
       "    </tr>\n",
       "    <tr>\n",
       "      <th>422</th>\n",
       "      <td>2016-11-23</td>\n",
       "      <td>0.0</td>\n",
       "      <td>0</td>\n",
       "    </tr>\n",
       "    <tr>\n",
       "      <th>423</th>\n",
       "      <td>2016-11-24</td>\n",
       "      <td>0.0</td>\n",
       "      <td>0</td>\n",
       "    </tr>\n",
       "    <tr>\n",
       "      <th>436</th>\n",
       "      <td>2016-12-07</td>\n",
       "      <td>0.0</td>\n",
       "      <td>0</td>\n",
       "    </tr>\n",
       "    <tr>\n",
       "      <th>450</th>\n",
       "      <td>2016-12-21</td>\n",
       "      <td>0.0</td>\n",
       "      <td>0</td>\n",
       "    </tr>\n",
       "    <tr>\n",
       "      <th>451</th>\n",
       "      <td>2016-12-22</td>\n",
       "      <td>0.0</td>\n",
       "      <td>0</td>\n",
       "    </tr>\n",
       "    <tr>\n",
       "      <th>455</th>\n",
       "      <td>2016-12-26</td>\n",
       "      <td>0.0</td>\n",
       "      <td>0</td>\n",
       "    </tr>\n",
       "    <tr>\n",
       "      <th>465</th>\n",
       "      <td>2017-01-05</td>\n",
       "      <td>0.0</td>\n",
       "      <td>0</td>\n",
       "    </tr>\n",
       "    <tr>\n",
       "      <th>472</th>\n",
       "      <td>2017-01-12</td>\n",
       "      <td>0.0</td>\n",
       "      <td>0</td>\n",
       "    </tr>\n",
       "    <tr>\n",
       "      <th>511</th>\n",
       "      <td>2017-02-20</td>\n",
       "      <td>0.0</td>\n",
       "      <td>0</td>\n",
       "    </tr>\n",
       "    <tr>\n",
       "      <th>513</th>\n",
       "      <td>2017-02-22</td>\n",
       "      <td>0.0</td>\n",
       "      <td>0</td>\n",
       "    </tr>\n",
       "    <tr>\n",
       "      <th>541</th>\n",
       "      <td>2017-03-22</td>\n",
       "      <td>0.0</td>\n",
       "      <td>0</td>\n",
       "    </tr>\n",
       "    <tr>\n",
       "      <th>603</th>\n",
       "      <td>2017-05-23</td>\n",
       "      <td>0.0</td>\n",
       "      <td>0</td>\n",
       "    </tr>\n",
       "    <tr>\n",
       "      <th>621</th>\n",
       "      <td>2017-06-10</td>\n",
       "      <td>0.0</td>\n",
       "      <td>0</td>\n",
       "    </tr>\n",
       "    <tr>\n",
       "      <th>728</th>\n",
       "      <td>2017-09-25</td>\n",
       "      <td>0.0</td>\n",
       "      <td>0</td>\n",
       "    </tr>\n",
       "  </tbody>\n",
       "</table>\n",
       "</div>"
      ],
      "text/plain": [
       "           开始时间  rentNumber week\n",
       "85   2015-12-22         0.0    0\n",
       "117  2016-01-23         0.0    0\n",
       "118  2016-01-24         0.0    0\n",
       "126  2016-02-01         0.0    0\n",
       "132  2016-02-07         0.0    0\n",
       "147  2016-02-22         0.0    0\n",
       "156  2016-03-02         0.0    0\n",
       "191  2016-04-06         0.0    0\n",
       "268  2016-06-22         0.0    0\n",
       "389  2016-10-21         0.0    0\n",
       "394  2016-10-26         0.0    0\n",
       "395  2016-10-27         0.0    0\n",
       "408  2016-11-09         0.0    0\n",
       "409  2016-11-10         0.0    0\n",
       "414  2016-11-15         0.0    0\n",
       "416  2016-11-17         0.0    0\n",
       "420  2016-11-21         0.0    0\n",
       "421  2016-11-22         0.0    0\n",
       "422  2016-11-23         0.0    0\n",
       "423  2016-11-24         0.0    0\n",
       "436  2016-12-07         0.0    0\n",
       "450  2016-12-21         0.0    0\n",
       "451  2016-12-22         0.0    0\n",
       "455  2016-12-26         0.0    0\n",
       "465  2017-01-05         0.0    0\n",
       "472  2017-01-12         0.0    0\n",
       "511  2017-02-20         0.0    0\n",
       "513  2017-02-22         0.0    0\n",
       "541  2017-03-22         0.0    0\n",
       "603  2017-05-23         0.0    0\n",
       "621  2017-06-10         0.0    0\n",
       "728  2017-09-25         0.0    0"
      ]
     },
     "execution_count": 210,
     "metadata": {},
     "output_type": "execute_result"
    }
   ],
   "source": [
    "new_business[new_business['rentNumber']==0]"
   ]
  },
  {
   "cell_type": "code",
   "execution_count": 215,
   "metadata": {
    "collapsed": false
   },
   "outputs": [
    {
     "data": {
      "image/png": "[encoded data removed]",
      "text/plain": [
       "<matplotlib.figure.Figure at 0x292814a1780>"
      ]
     },
     "metadata": {},
     "output_type": "display_data"
    }
   ],
   "source": [
    "##get daylist\n",
    "importlib.reload(prepare)\n",
    "df = prepare.month_data(business)\n",
    "prepare.plot_monthdata(df)"
   ]
  },
  {
   "cell_type": "code",
   "execution_count": 216,
   "metadata": {
    "collapsed": false,
    "scrolled": true
   },
   "outputs": [
    {
     "data": {
      "image/png": "[encoded data removed]",
      "text/plain": [
       "<matplotlib.figure.Figure at 0x2928225f550>"
      ]
     },
     "metadata": {},
     "output_type": "display_data"
    }
   ],
   "source": [
    "prepare.plot_daydata(business)"
   ]
  },
  {
   "cell_type": "code",
   "execution_count": 222,
   "metadata": {
    "collapsed": false
   },
   "outputs": [
    {
     "data": {
      "image/png": "[encoded data removed]",
      "text/plain": [
       "<matplotlib.figure.Figure at 0x29280f53a20>"
      ]
     },
     "metadata": {},
     "output_type": "display_data"
    }
   ],
   "source": [
    "##generate data\n",
    "data_list =  [1,3,4,5,3,1,3,6,7,5,4,2,3,5,7,8,9]\n",
    "gen = pd.DataFrame({'rentNumber':data_list})\n",
    "prepare.plot_monthdata(gen)"
   ]
  },
  {
   "cell_type": "code",
   "execution_count": 223,
   "metadata": {
    "collapsed": true
   },
   "outputs": [],
   "source": [
    "import numpy as np\n",
    "business_copy = business.copy()\n",
    "business_copy['rentNumber'] = np.log(business_copy.rentNumber)"
   ]
  },
  {
   "cell_type": "code",
   "execution_count": 224,
   "metadata": {
    "collapsed": false
   },
   "outputs": [
    {
     "name": "stdout",
     "output_type": "stream",
     "text": [
      "原始序列经过0阶差分后归于平稳，p值为0.00469951067314\n"
     ]
    }
   ],
   "source": [
    "##stationarity test,测试样本7\n",
    "prepare.stationarity_test(business_copy,7)"
   ]
  },
  {
   "cell_type": "code",
   "execution_count": 225,
   "metadata": {
    "collapsed": false
   },
   "outputs": [
    {
     "name": "stdout",
     "output_type": "stream",
     "text": [
      "原始序列为非白噪声序列，对应的p值为：7.81474158571e-60\n",
      "一阶差分序列为非白噪声序列，对应的p值为：0.000493556298573\n"
     ]
    }
   ],
   "source": [
    "##whitenoise_test\n",
    "prepare.whitenoise_test(business_copy,7)"
   ]
  },
  {
   "cell_type": "code",
   "execution_count": 264,
   "metadata": {
    "collapsed": false,
    "scrolled": true
   },
   "outputs": [
    {
     "name": "stderr",
     "output_type": "stream",
     "text": [
      "C:\\ProgramData\\Anaconda3\\lib\\site-packages\\matplotlib\\figure.py:402: UserWarning: matplotlib is currently using a non-GUI backend, so cannot show the figure\n",
      "  \"matplotlib is currently using a non-GUI backend, \"\n"
     ]
    },
    {
     "data": {
      "image/png": "[encoded data removed]",
      "text/plain": [
       "<matplotlib.figure.Figure at 0x292edc69ba8>"
      ]
     },
     "metadata": {},
     "output_type": "display_data"
    }
   ],
   "source": [
    "##acf、pacf\n",
    "importlib.reload(prepare)\n",
    "prepare.plot_acfandpacf(business_copy)"
   ]
  },
  {
   "cell_type": "code",
   "execution_count": 291,
   "metadata": {
    "collapsed": false
   },
   "outputs": [
    {
     "data": {
      "image/png": "[encoded data removed]",
      "text/plain": [
       "<matplotlib.figure.Figure at 0x29280ef78d0>"
      ]
     },
     "metadata": {},
     "output_type": "display_data"
    }
   ],
   "source": [
    "##predict\n",
    "importlib.reload(prepare)\n",
    "import numpy as np\n",
    "pred, RMSE=prepare.arma_predict(business_copy,21)"
   ]
  },
  {
   "cell_type": "code",
   "execution_count": 292,
   "metadata": {
    "collapsed": false
   },
   "outputs": [
    {
     "data": {
      "text/plain": [
       "array([ 7,  9,  6, 14, 16, 17, 51, 28, 46, 34, 29, 37, 37, 21, 11,  6, 13,\n",
       "        2, 13, 18, 15,  2])"
      ]
     },
     "execution_count": 292,
     "metadata": {},
     "output_type": "execute_result"
    }
   ],
   "source": [
    "np.exp(pred).astype(int)"
   ]
  },
  {
   "cell_type": "code",
   "execution_count": 293,
   "metadata": {
    "collapsed": false
   },
   "outputs": [
    {
     "data": {
      "text/plain": [
       "0.53236883500699539"
      ]
     },
     "execution_count": 293,
     "metadata": {},
     "output_type": "execute_result"
    }
   ],
   "source": [
    "RMSE"
   ]
  }
 ],
 "metadata": {
  "kernelspec": {
   "display_name": "Python 3",
   "language": "python",
   "name": "python3"
  },
  "language_info": {
   "codemirror_mode": {
    "name": "ipython",
    "version": 3
   },
   "file_extension": ".py",
   "mimetype": "text/x-python",
   "name": "python",
   "nbconvert_exporter": "python",
   "pygments_lexer": "ipython3",
   "version": "3.6.0"
  }
 },
 "nbformat": 4,
 "nbformat_minor": 2
}
